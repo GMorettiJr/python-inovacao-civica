{
  "cells": [
    {
      "cell_type": "markdown",
      "metadata": {
        "id": "view-in-github",
        "colab_type": "text"
      },
      "source": [
        "<a href=\"https://colab.research.google.com/github/GMorettiJr/python-inovacao-civica/blob/edicao-3/semana_1/aula_aovivo.ipynb\" target=\"_parent\"><img src=\"https://colab.research.google.com/assets/colab-badge.svg\" alt=\"Open In Colab\"/></a>"
      ]
    },
    {
      "cell_type": "markdown",
      "id": "32600998",
      "metadata": {
        "id": "32600998"
      },
      "source": [
        "# Exercício\n",
        "\n",
        "Construa um programa que:\n",
        " - Pergunte a usuária 2 números inteiros;\n",
        " - Crie uma lista numérica do intervalo;\n",
        " - Se o número for divisível por 3, substitua-o por \"Tecnologia\";\n",
        " - Se o número for divisível por 5, substitua-o por \"Cívica\";\n",
        " - Se o número for divisível por 3 e 5, substitua-o por \"Tecnologia Cívica\"."
      ]
    },
    {
      "cell_type": "code",
      "source": [
        "numero_1 = int(input('Informe um numero inteiro: '))"
      ],
      "metadata": {
        "id": "TxNlSQRF2IzG",
        "outputId": "845cc352-d292-4df8-d06f-919d50efb3a1",
        "colab": {
          "base_uri": "https://localhost:8080/"
        }
      },
      "id": "TxNlSQRF2IzG",
      "execution_count": 3,
      "outputs": [
        {
          "name": "stdout",
          "output_type": "stream",
          "text": [
            "Informe um numero inteiro: 4\n"
          ]
        }
      ]
    },
    {
      "cell_type": "code",
      "source": [
        "numero_1"
      ],
      "metadata": {
        "id": "LfUN2No34I1b",
        "outputId": "25cb28da-fb8a-45f2-8c10-5e9f595d8ac8",
        "colab": {
          "base_uri": "https://localhost:8080/"
        }
      },
      "id": "LfUN2No34I1b",
      "execution_count": 4,
      "outputs": [
        {
          "output_type": "execute_result",
          "data": {
            "text/plain": [
              "4"
            ]
          },
          "metadata": {},
          "execution_count": 4
        }
      ]
    },
    {
      "cell_type": "code",
      "source": [
        "numero_2 = int(input('Informe outro numero inteiro maior que o anterior: '))"
      ],
      "metadata": {
        "id": "E5lD4wXg4m-4",
        "outputId": "3d2d1268-0d24-4eb2-eb94-719416fc8bd5",
        "colab": {
          "base_uri": "https://localhost:8080/"
        }
      },
      "id": "E5lD4wXg4m-4",
      "execution_count": 6,
      "outputs": [
        {
          "name": "stdout",
          "output_type": "stream",
          "text": [
            "Informe outro numero inteiro maior que o anterior: 31\n"
          ]
        }
      ]
    },
    {
      "cell_type": "code",
      "source": [
        "numero_2"
      ],
      "metadata": {
        "id": "DyQG_PQy40UF",
        "outputId": "1d15093b-8820-4f64-f3ab-9f0d779a8fc5",
        "colab": {
          "base_uri": "https://localhost:8080/"
        }
      },
      "id": "DyQG_PQy40UF",
      "execution_count": 7,
      "outputs": [
        {
          "output_type": "execute_result",
          "data": {
            "text/plain": [
              "31"
            ]
          },
          "metadata": {},
          "execution_count": 7
        }
      ]
    },
    {
      "cell_type": "code",
      "source": [
        "lista_numero = list(range(numero_1, numero_2))"
      ],
      "metadata": {
        "id": "JXzrVu846IeM"
      },
      "id": "JXzrVu846IeM",
      "execution_count": 8,
      "outputs": []
    },
    {
      "cell_type": "code",
      "source": [
        "print(lista_numero)"
      ],
      "metadata": {
        "id": "bybYwUyKoIlf",
        "outputId": "42f32471-bdc5-4d8b-c830-60ce9c05380c",
        "colab": {
          "base_uri": "https://localhost:8080/"
        }
      },
      "id": "bybYwUyKoIlf",
      "execution_count": 9,
      "outputs": [
        {
          "output_type": "stream",
          "name": "stdout",
          "text": [
            "[4, 5, 6, 7, 8, 9, 10, 11, 12, 13, 14, 15, 16, 17, 18, 19, 20, 21, 22, 23, 24, 25, 26, 27, 28, 29, 30]\n"
          ]
        }
      ]
    },
    {
      "cell_type": "code",
      "source": [
        "lista_vazia = []"
      ],
      "metadata": {
        "id": "BDQx4Xwc7yrN"
      },
      "id": "BDQx4Xwc7yrN",
      "execution_count": 17,
      "outputs": []
    },
    {
      "cell_type": "code",
      "source": [
        "for item in lista_numero:\n",
        "  if item % 3 == 0:\n",
        "   lista_vazia.append('Tecnologia')\n",
        "\n",
        "print(lista_vazia)"
      ],
      "metadata": {
        "id": "0ayxbeZY_I7T",
        "outputId": "dbbf12cb-c078-4e8b-ba12-0baf565be6bf",
        "colab": {
          "base_uri": "https://localhost:8080/"
        }
      },
      "id": "0ayxbeZY_I7T",
      "execution_count": 50,
      "outputs": [
        {
          "output_type": "stream",
          "name": "stdout",
          "text": [
            "['Tecnologia', 'Tecnologia', 'Tecnologia', 'Tecnologia', 'Tecnologia', 'Tecnologia', 'Tecnologia', 'Tecnologia', 'Tecnologia']\n"
          ]
        }
      ]
    },
    {
      "cell_type": "code",
      "source": [
        "for item in lista_numero:\n",
        "  if item % 3 == 0:\n",
        "   lista_vazia.append(['Tecnologia', item])\n",
        "  elif item % 5 == 0:\n",
        "   lista_vazia.append(['Cívica', item])\n",
        "\n",
        "print(lista_vazia)"
      ],
      "metadata": {
        "id": "FKiAyFbADyM6",
        "outputId": "ba5c29c5-1a94-40ce-aaee-33b9f3a6960a",
        "colab": {
          "base_uri": "https://localhost:8080/"
        }
      },
      "id": "FKiAyFbADyM6",
      "execution_count": 67,
      "outputs": [
        {
          "output_type": "stream",
          "name": "stdout",
          "text": [
            "[['Cívica', 5], ['Tecnologia', 6], ['Tecnologia', 9], ['Cívica', 10], ['Tecnologia', 12], ['Tecnologia', 15], ['Tecnologia', 18], ['Cívica', 20], ['Tecnologia', 21], ['Tecnologia', 24], ['Cívica', 25], ['Tecnologia', 27], ['Tecnologia', 30]]\n"
          ]
        }
      ]
    },
    {
      "cell_type": "code",
      "source": [
        "for item in lista_numero:\n",
        "  if item % 3 == 0 and item % 5 == 0:\n",
        "    lista_vazia.append(['Tecnologia Cívica', item])\n",
        "  elif item % 3 == 0:\n",
        "   lista_vazia.append(['Tecnologia', item])\n",
        "  elif item % 5 == 0:\n",
        "   lista_vazia.append(['Cívica', item])\n",
        "  else:\n",
        "    lista_vazia.append(item)\n",
        "\n",
        "print(lista_vazia)"
      ],
      "metadata": {
        "id": "EcOtlq95pnUc",
        "outputId": "e98ad368-9ab0-482b-d1da-83886553e62a",
        "colab": {
          "base_uri": "https://localhost:8080/"
        }
      },
      "id": "EcOtlq95pnUc",
      "execution_count": 16,
      "outputs": [
        {
          "output_type": "stream",
          "name": "stdout",
          "text": [
            "[4, ['Cívica', 5], ['Tecnologia', 6], 7, 8, ['Tecnologia', 9], ['Cívica', 10], 11, ['Tecnologia', 12], 13, 14, ['Tecnologia Cívica', 15], 16, 17, ['Tecnologia', 18], 19, ['Cívica', 20], ['Tecnologia', 21], 22, 23, ['Tecnologia', 24], ['Cívica', 25], 26, ['Tecnologia', 27], 28, 29, ['Tecnologia Cívica', 30]]\n"
          ]
        }
      ]
    },
    {
      "cell_type": "code",
      "source": [
        "for item in lista_numero:\n",
        "  if item % 3 == 0 and item % 5 == 0:\n",
        "    lista_vazia.append('Tecnologia Cívica')\n",
        "  elif item % 3 == 0:\n",
        "   lista_vazia.append('Tecnologia')\n",
        "  elif item % 5 == 0:\n",
        "   lista_vazia.append('Cívica')\n",
        "  else:\n",
        "    lista_vazia.append(item)\n",
        "\n",
        "print(lista_vazia)"
      ],
      "metadata": {
        "id": "afjIj0XvrNth",
        "outputId": "f734aa2e-1de3-43a5-a31e-24798f3a0984",
        "colab": {
          "base_uri": "https://localhost:8080/"
        }
      },
      "id": "afjIj0XvrNth",
      "execution_count": 18,
      "outputs": [
        {
          "output_type": "stream",
          "name": "stdout",
          "text": [
            "[4, 'Cívica', 'Tecnologia', 7, 8, 'Tecnologia', 'Cívica', 11, 'Tecnologia', 13, 14, 'Tecnologia Cívica', 16, 17, 'Tecnologia', 19, 'Cívica', 'Tecnologia', 22, 23, 'Tecnologia', 'Cívica', 26, 'Tecnologia', 28, 29, 'Tecnologia Cívica']\n"
          ]
        }
      ]
    }
  ],
  "metadata": {
    "kernelspec": {
      "display_name": "Python 3 (ipykernel)",
      "language": "python",
      "name": "python3"
    },
    "language_info": {
      "codemirror_mode": {
        "name": "ipython",
        "version": 3
      },
      "file_extension": ".py",
      "mimetype": "text/x-python",
      "name": "python",
      "nbconvert_exporter": "python",
      "pygments_lexer": "ipython3",
      "version": "3.10.6"
    },
    "colab": {
      "provenance": [],
      "include_colab_link": true
    }
  },
  "nbformat": 4,
  "nbformat_minor": 5
}