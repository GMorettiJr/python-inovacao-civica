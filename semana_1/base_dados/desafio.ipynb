{
  "cells": [
    {
      "cell_type": "markdown",
      "id": "b0c02ae8-da85-499a-99c9-8c3da9e1ae05",
      "metadata": {
        "id": "b0c02ae8-da85-499a-99c9-8c3da9e1ae05"
      },
      "source": [
        "# Explorando dados\n",
        "\n",
        "Neste desafio colocaremos em prática alguns conceitos apresentado nas aulas. Para isso, usaremos o conjunto de dados [Candidatos - 2022](https://dadosabertos.tse.jus.br/dataset/candidatos-2022) disponível no Portal de Dados Abertos do Tribunal Superior Eleitoral.\n",
        "\n",
        "Os dados também podem ser encontrados na pasta \"Dados\" deste repositório.\n",
        "\n",
        "Siga as orientações abaixo para completar o desafio:"
      ]
    },
    {
      "cell_type": "markdown",
      "id": "d2bf34dd-2879-4dd6-b65b-4944a34c03d4",
      "metadata": {
        "id": "d2bf34dd-2879-4dd6-b65b-4944a34c03d4"
      },
      "source": [
        "# Importe os pacotes necessários"
      ]
    },
    {
      "cell_type": "code",
      "execution_count": 2,
      "id": "b286617f-43b9-4c20-8b0e-5ae0da7e4a9f",
      "metadata": {
        "id": "b286617f-43b9-4c20-8b0e-5ae0da7e4a9f"
      },
      "outputs": [],
      "source": [
        "import pandas as pd\n",
        "import glob as gb"
      ]
    },
    {
      "cell_type": "markdown",
      "id": "ced62f05-5e3c-4565-b13c-f359fb8c35bf",
      "metadata": {
        "id": "ced62f05-5e3c-4565-b13c-f359fb8c35bf"
      },
      "source": [
        "# Crie uma lista com o título dos arquivos usando a biblioteca Gloob"
      ]
    },
    {
      "cell_type": "code",
      "source": [
        "arquivos = gb.glob('/content/consulta_*2022*.csv')\n",
        "print(arquivos)"
      ],
      "metadata": {
        "id": "A8c3p3Hd464r",
        "outputId": "e6061f9f-c901-40f5-a594-ae62ee1cbbdb",
        "colab": {
          "base_uri": "https://localhost:8080/"
        }
      },
      "id": "A8c3p3Hd464r",
      "execution_count": 3,
      "outputs": [
        {
          "output_type": "stream",
          "name": "stdout",
          "text": [
            "['/content/consulta_cand_2022_PA.csv', '/content/consulta_cand_2022_AP.csv']\n"
          ]
        }
      ]
    },
    {
      "cell_type": "markdown",
      "id": "cf29db73-447b-4375-bad5-2df7aa7c4743",
      "metadata": {
        "id": "cf29db73-447b-4375-bad5-2df7aa7c4743"
      },
      "source": [
        "# Crie um laço (loop) para ler todos os arquivos da lista (usando a biblioteca Pandas) e armazenar os dataframes em uma lista"
      ]
    },
    {
      "cell_type": "code",
      "execution_count": 28,
      "id": "dd63f03d-147e-4fda-ba61-9edb0bdee254",
      "metadata": {
        "id": "dd63f03d-147e-4fda-ba61-9edb0bdee254"
      },
      "outputs": [],
      "source": [
        "lista_df = []\n"
      ]
    },
    {
      "cell_type": "code",
      "source": [
        "for csv in arquivos:\n",
        "  df = pd.read_csv(csv, encoding= 'Latin 1', sep = ';', na_values= ['#NULO', -1, '#NE', -3])\n",
        "  lista_df.append(df)"
      ],
      "metadata": {
        "id": "KbgscZk5b_Z3"
      },
      "id": "KbgscZk5b_Z3",
      "execution_count": 29,
      "outputs": []
    },
    {
      "cell_type": "code",
      "source": [
        "lista_df[0].shape"
      ],
      "metadata": {
        "id": "NWgconZnoGbB",
        "outputId": "00c471b4-ee10-4e4b-9317-ccceaab8acd2",
        "colab": {
          "base_uri": "https://localhost:8080/"
        }
      },
      "id": "NWgconZnoGbB",
      "execution_count": 33,
      "outputs": [
        {
          "output_type": "execute_result",
          "data": {
            "text/plain": [
              "(1043, 71)"
            ]
          },
          "metadata": {},
          "execution_count": 33
        }
      ]
    },
    {
      "cell_type": "markdown",
      "id": "310bca4e-c1c2-4030-a427-ecda54601106",
      "metadata": {
        "id": "310bca4e-c1c2-4030-a427-ecda54601106"
      },
      "source": [
        "# Concatene todos os dataframes da lista"
      ]
    },
    {
      "cell_type": "code",
      "execution_count": 31,
      "id": "997a08ff-f355-40c1-9257-cf4a196517bd",
      "metadata": {
        "id": "997a08ff-f355-40c1-9257-cf4a196517bd"
      },
      "outputs": [],
      "source": [
        "candidaturas = pd.concat(lista_df, axis=0, ignore_index=True)"
      ]
    },
    {
      "cell_type": "code",
      "source": [
        "candidaturas.shape"
      ],
      "metadata": {
        "id": "1rPvpuJdqhUT",
        "outputId": "04347bbc-8444-4dca-96a3-fcc0b5f60904",
        "colab": {
          "base_uri": "https://localhost:8080/"
        }
      },
      "id": "1rPvpuJdqhUT",
      "execution_count": 32,
      "outputs": [
        {
          "output_type": "execute_result",
          "data": {
            "text/plain": [
              "(1600, 71)"
            ]
          },
          "metadata": {},
          "execution_count": 32
        }
      ]
    },
    {
      "cell_type": "markdown",
      "id": "0c1bee1c-a55d-4152-98cd-471028d2d73a",
      "metadata": {
        "id": "0c1bee1c-a55d-4152-98cd-471028d2d73a"
      },
      "source": [
        "# Apresente 5 linhas aleatórias do dataframe"
      ]
    },
    {
      "cell_type": "code",
      "execution_count": 34,
      "id": "b7b7124c-f6fa-4d90-b157-88678e82076e",
      "metadata": {
        "id": "b7b7124c-f6fa-4d90-b157-88678e82076e",
        "outputId": "9321c7d5-dd8f-4901-e5c8-91558e0a0814",
        "colab": {
          "base_uri": "https://localhost:8080/",
          "height": 560
        }
      },
      "outputs": [
        {
          "output_type": "execute_result",
          "data": {
            "text/plain": [
              "      DT_GERACAO HH_GERACAO  ANO_ELEICAO  CD_TIPO_ELEICAO    NM_TIPO_ELEICAO  \\\n",
              "1448  13/05/2023   19:32:48         2022                2  ELEIÇÃO ORDINÁRIA   \n",
              "1227  13/05/2023   19:32:48         2022                2  ELEIÇÃO ORDINÁRIA   \n",
              "376   13/05/2023   19:32:48         2022                2  ELEIÇÃO ORDINÁRIA   \n",
              "1596  13/05/2023   19:32:48         2022                2  ELEIÇÃO ORDINÁRIA   \n",
              "903   13/05/2023   19:32:48         2022                2  ELEIÇÃO ORDINÁRIA   \n",
              "\n",
              "      NR_TURNO  CD_ELEICAO                      DS_ELEICAO  DT_ELEICAO  \\\n",
              "1448         1         546  Eleições Gerais Estaduais 2022  02/10/2022   \n",
              "1227         1         546  Eleições Gerais Estaduais 2022  02/10/2022   \n",
              "376          1         546  Eleições Gerais Estaduais 2022  02/10/2022   \n",
              "1596         1         546  Eleições Gerais Estaduais 2022  02/10/2022   \n",
              "903          1         546  Eleições Gerais Estaduais 2022  02/10/2022   \n",
              "\n",
              "     TP_ABRANGENCIA  ...          NR_PROCESSO CD_SITUACAO_CANDIDATO_PLEITO  \\\n",
              "1448       ESTADUAL  ...  6005629820226030000                          2.0   \n",
              "1227       ESTADUAL  ...  6004988820226030000                          2.0   \n",
              "376        ESTADUAL  ...  6013752220226140000                          2.0   \n",
              "1596       ESTADUAL  ...  6006711520226030000                          2.0   \n",
              "903        ESTADUAL  ...  6009742320226140000                          2.0   \n",
              "\n",
              "     DS_SITUACAO_CANDIDATO_PLEITO  CD_SITUACAO_CANDIDATO_URNA  \\\n",
              "1448                     DEFERIDO                         2.0   \n",
              "1227                     DEFERIDO                         2.0   \n",
              "376                      DEFERIDO                         2.0   \n",
              "1596                     DEFERIDO                         2.0   \n",
              "903                      DEFERIDO                         2.0   \n",
              "\n",
              "     DS_SITUACAO_CANDIDATO_URNA  ST_CANDIDATO_INSERIDO_URNA  \\\n",
              "1448                   DEFERIDO                         SIM   \n",
              "1227                   DEFERIDO                         SIM   \n",
              "376                    DEFERIDO                         SIM   \n",
              "1596                   DEFERIDO                         SIM   \n",
              "903                    DEFERIDO                         SIM   \n",
              "\n",
              "      NM_TIPO_DESTINACAO_VOTOS CD_SITUACAO_CANDIDATO_TOT  \\\n",
              "1448                    Válido                       2.0   \n",
              "1227                    Válido                       2.0   \n",
              "376                     Válido                       2.0   \n",
              "1596                    Válido                       2.0   \n",
              "903                     Válido                       2.0   \n",
              "\n",
              "     DS_SITUACAO_CANDIDATO_TOT ST_PREST_CONTAS  \n",
              "1448                  Deferido               S  \n",
              "1227                  Deferido               S  \n",
              "376                   Deferido               S  \n",
              "1596                  Deferido               S  \n",
              "903                   Deferido               S  \n",
              "\n",
              "[5 rows x 71 columns]"
            ],
            "text/html": [
              "\n",
              "  <div id=\"df-c0b8202c-22f4-49c6-8000-a919a7301456\">\n",
              "    <div class=\"colab-df-container\">\n",
              "      <div>\n",
              "<style scoped>\n",
              "    .dataframe tbody tr th:only-of-type {\n",
              "        vertical-align: middle;\n",
              "    }\n",
              "\n",
              "    .dataframe tbody tr th {\n",
              "        vertical-align: top;\n",
              "    }\n",
              "\n",
              "    .dataframe thead th {\n",
              "        text-align: right;\n",
              "    }\n",
              "</style>\n",
              "<table border=\"1\" class=\"dataframe\">\n",
              "  <thead>\n",
              "    <tr style=\"text-align: right;\">\n",
              "      <th></th>\n",
              "      <th>DT_GERACAO</th>\n",
              "      <th>HH_GERACAO</th>\n",
              "      <th>ANO_ELEICAO</th>\n",
              "      <th>CD_TIPO_ELEICAO</th>\n",
              "      <th>NM_TIPO_ELEICAO</th>\n",
              "      <th>NR_TURNO</th>\n",
              "      <th>CD_ELEICAO</th>\n",
              "      <th>DS_ELEICAO</th>\n",
              "      <th>DT_ELEICAO</th>\n",
              "      <th>TP_ABRANGENCIA</th>\n",
              "      <th>...</th>\n",
              "      <th>NR_PROCESSO</th>\n",
              "      <th>CD_SITUACAO_CANDIDATO_PLEITO</th>\n",
              "      <th>DS_SITUACAO_CANDIDATO_PLEITO</th>\n",
              "      <th>CD_SITUACAO_CANDIDATO_URNA</th>\n",
              "      <th>DS_SITUACAO_CANDIDATO_URNA</th>\n",
              "      <th>ST_CANDIDATO_INSERIDO_URNA</th>\n",
              "      <th>NM_TIPO_DESTINACAO_VOTOS</th>\n",
              "      <th>CD_SITUACAO_CANDIDATO_TOT</th>\n",
              "      <th>DS_SITUACAO_CANDIDATO_TOT</th>\n",
              "      <th>ST_PREST_CONTAS</th>\n",
              "    </tr>\n",
              "  </thead>\n",
              "  <tbody>\n",
              "    <tr>\n",
              "      <th>1448</th>\n",
              "      <td>13/05/2023</td>\n",
              "      <td>19:32:48</td>\n",
              "      <td>2022</td>\n",
              "      <td>2</td>\n",
              "      <td>ELEIÇÃO ORDINÁRIA</td>\n",
              "      <td>1</td>\n",
              "      <td>546</td>\n",
              "      <td>Eleições Gerais Estaduais 2022</td>\n",
              "      <td>02/10/2022</td>\n",
              "      <td>ESTADUAL</td>\n",
              "      <td>...</td>\n",
              "      <td>6005629820226030000</td>\n",
              "      <td>2.0</td>\n",
              "      <td>DEFERIDO</td>\n",
              "      <td>2.0</td>\n",
              "      <td>DEFERIDO</td>\n",
              "      <td>SIM</td>\n",
              "      <td>Válido</td>\n",
              "      <td>2.0</td>\n",
              "      <td>Deferido</td>\n",
              "      <td>S</td>\n",
              "    </tr>\n",
              "    <tr>\n",
              "      <th>1227</th>\n",
              "      <td>13/05/2023</td>\n",
              "      <td>19:32:48</td>\n",
              "      <td>2022</td>\n",
              "      <td>2</td>\n",
              "      <td>ELEIÇÃO ORDINÁRIA</td>\n",
              "      <td>1</td>\n",
              "      <td>546</td>\n",
              "      <td>Eleições Gerais Estaduais 2022</td>\n",
              "      <td>02/10/2022</td>\n",
              "      <td>ESTADUAL</td>\n",
              "      <td>...</td>\n",
              "      <td>6004988820226030000</td>\n",
              "      <td>2.0</td>\n",
              "      <td>DEFERIDO</td>\n",
              "      <td>2.0</td>\n",
              "      <td>DEFERIDO</td>\n",
              "      <td>SIM</td>\n",
              "      <td>Válido</td>\n",
              "      <td>2.0</td>\n",
              "      <td>Deferido</td>\n",
              "      <td>S</td>\n",
              "    </tr>\n",
              "    <tr>\n",
              "      <th>376</th>\n",
              "      <td>13/05/2023</td>\n",
              "      <td>19:32:48</td>\n",
              "      <td>2022</td>\n",
              "      <td>2</td>\n",
              "      <td>ELEIÇÃO ORDINÁRIA</td>\n",
              "      <td>1</td>\n",
              "      <td>546</td>\n",
              "      <td>Eleições Gerais Estaduais 2022</td>\n",
              "      <td>02/10/2022</td>\n",
              "      <td>ESTADUAL</td>\n",
              "      <td>...</td>\n",
              "      <td>6013752220226140000</td>\n",
              "      <td>2.0</td>\n",
              "      <td>DEFERIDO</td>\n",
              "      <td>2.0</td>\n",
              "      <td>DEFERIDO</td>\n",
              "      <td>SIM</td>\n",
              "      <td>Válido</td>\n",
              "      <td>2.0</td>\n",
              "      <td>Deferido</td>\n",
              "      <td>S</td>\n",
              "    </tr>\n",
              "    <tr>\n",
              "      <th>1596</th>\n",
              "      <td>13/05/2023</td>\n",
              "      <td>19:32:48</td>\n",
              "      <td>2022</td>\n",
              "      <td>2</td>\n",
              "      <td>ELEIÇÃO ORDINÁRIA</td>\n",
              "      <td>1</td>\n",
              "      <td>546</td>\n",
              "      <td>Eleições Gerais Estaduais 2022</td>\n",
              "      <td>02/10/2022</td>\n",
              "      <td>ESTADUAL</td>\n",
              "      <td>...</td>\n",
              "      <td>6006711520226030000</td>\n",
              "      <td>2.0</td>\n",
              "      <td>DEFERIDO</td>\n",
              "      <td>2.0</td>\n",
              "      <td>DEFERIDO</td>\n",
              "      <td>SIM</td>\n",
              "      <td>Válido</td>\n",
              "      <td>2.0</td>\n",
              "      <td>Deferido</td>\n",
              "      <td>S</td>\n",
              "    </tr>\n",
              "    <tr>\n",
              "      <th>903</th>\n",
              "      <td>13/05/2023</td>\n",
              "      <td>19:32:48</td>\n",
              "      <td>2022</td>\n",
              "      <td>2</td>\n",
              "      <td>ELEIÇÃO ORDINÁRIA</td>\n",
              "      <td>1</td>\n",
              "      <td>546</td>\n",
              "      <td>Eleições Gerais Estaduais 2022</td>\n",
              "      <td>02/10/2022</td>\n",
              "      <td>ESTADUAL</td>\n",
              "      <td>...</td>\n",
              "      <td>6009742320226140000</td>\n",
              "      <td>2.0</td>\n",
              "      <td>DEFERIDO</td>\n",
              "      <td>2.0</td>\n",
              "      <td>DEFERIDO</td>\n",
              "      <td>SIM</td>\n",
              "      <td>Válido</td>\n",
              "      <td>2.0</td>\n",
              "      <td>Deferido</td>\n",
              "      <td>S</td>\n",
              "    </tr>\n",
              "  </tbody>\n",
              "</table>\n",
              "<p>5 rows × 71 columns</p>\n",
              "</div>\n",
              "      <button class=\"colab-df-convert\" onclick=\"convertToInteractive('df-c0b8202c-22f4-49c6-8000-a919a7301456')\"\n",
              "              title=\"Convert this dataframe to an interactive table.\"\n",
              "              style=\"display:none;\">\n",
              "        \n",
              "  <svg xmlns=\"http://www.w3.org/2000/svg\" height=\"24px\"viewBox=\"0 0 24 24\"\n",
              "       width=\"24px\">\n",
              "    <path d=\"M0 0h24v24H0V0z\" fill=\"none\"/>\n",
              "    <path d=\"M18.56 5.44l.94 2.06.94-2.06 2.06-.94-2.06-.94-.94-2.06-.94 2.06-2.06.94zm-11 1L8.5 8.5l.94-2.06 2.06-.94-2.06-.94L8.5 2.5l-.94 2.06-2.06.94zm10 10l.94 2.06.94-2.06 2.06-.94-2.06-.94-.94-2.06-.94 2.06-2.06.94z\"/><path d=\"M17.41 7.96l-1.37-1.37c-.4-.4-.92-.59-1.43-.59-.52 0-1.04.2-1.43.59L10.3 9.45l-7.72 7.72c-.78.78-.78 2.05 0 2.83L4 21.41c.39.39.9.59 1.41.59.51 0 1.02-.2 1.41-.59l7.78-7.78 2.81-2.81c.8-.78.8-2.07 0-2.86zM5.41 20L4 18.59l7.72-7.72 1.47 1.35L5.41 20z\"/>\n",
              "  </svg>\n",
              "      </button>\n",
              "      \n",
              "  <style>\n",
              "    .colab-df-container {\n",
              "      display:flex;\n",
              "      flex-wrap:wrap;\n",
              "      gap: 12px;\n",
              "    }\n",
              "\n",
              "    .colab-df-convert {\n",
              "      background-color: #E8F0FE;\n",
              "      border: none;\n",
              "      border-radius: 50%;\n",
              "      cursor: pointer;\n",
              "      display: none;\n",
              "      fill: #1967D2;\n",
              "      height: 32px;\n",
              "      padding: 0 0 0 0;\n",
              "      width: 32px;\n",
              "    }\n",
              "\n",
              "    .colab-df-convert:hover {\n",
              "      background-color: #E2EBFA;\n",
              "      box-shadow: 0px 1px 2px rgba(60, 64, 67, 0.3), 0px 1px 3px 1px rgba(60, 64, 67, 0.15);\n",
              "      fill: #174EA6;\n",
              "    }\n",
              "\n",
              "    [theme=dark] .colab-df-convert {\n",
              "      background-color: #3B4455;\n",
              "      fill: #D2E3FC;\n",
              "    }\n",
              "\n",
              "    [theme=dark] .colab-df-convert:hover {\n",
              "      background-color: #434B5C;\n",
              "      box-shadow: 0px 1px 3px 1px rgba(0, 0, 0, 0.15);\n",
              "      filter: drop-shadow(0px 1px 2px rgba(0, 0, 0, 0.3));\n",
              "      fill: #FFFFFF;\n",
              "    }\n",
              "  </style>\n",
              "\n",
              "      <script>\n",
              "        const buttonEl =\n",
              "          document.querySelector('#df-c0b8202c-22f4-49c6-8000-a919a7301456 button.colab-df-convert');\n",
              "        buttonEl.style.display =\n",
              "          google.colab.kernel.accessAllowed ? 'block' : 'none';\n",
              "\n",
              "        async function convertToInteractive(key) {\n",
              "          const element = document.querySelector('#df-c0b8202c-22f4-49c6-8000-a919a7301456');\n",
              "          const dataTable =\n",
              "            await google.colab.kernel.invokeFunction('convertToInteractive',\n",
              "                                                     [key], {});\n",
              "          if (!dataTable) return;\n",
              "\n",
              "          const docLinkHtml = 'Like what you see? Visit the ' +\n",
              "            '<a target=\"_blank\" href=https://colab.research.google.com/notebooks/data_table.ipynb>data table notebook</a>'\n",
              "            + ' to learn more about interactive tables.';\n",
              "          element.innerHTML = '';\n",
              "          dataTable['output_type'] = 'display_data';\n",
              "          await google.colab.output.renderOutput(dataTable, element);\n",
              "          const docLink = document.createElement('div');\n",
              "          docLink.innerHTML = docLinkHtml;\n",
              "          element.appendChild(docLink);\n",
              "        }\n",
              "      </script>\n",
              "    </div>\n",
              "  </div>\n",
              "  "
            ]
          },
          "metadata": {},
          "execution_count": 34
        }
      ],
      "source": [
        "candidaturas.sample(5)"
      ]
    },
    {
      "cell_type": "code",
      "source": [
        "candidaturas.tail(5)"
      ],
      "metadata": {
        "id": "h6_HZVsprae8",
        "outputId": "447647ad-97de-443c-f855-35eec110ef2b",
        "colab": {
          "base_uri": "https://localhost:8080/",
          "height": 560
        }
      },
      "id": "h6_HZVsprae8",
      "execution_count": 35,
      "outputs": [
        {
          "output_type": "execute_result",
          "data": {
            "text/plain": [
              "      DT_GERACAO HH_GERACAO  ANO_ELEICAO  CD_TIPO_ELEICAO    NM_TIPO_ELEICAO  \\\n",
              "1595  13/05/2023   19:32:48         2022                2  ELEIÇÃO ORDINÁRIA   \n",
              "1596  13/05/2023   19:32:48         2022                2  ELEIÇÃO ORDINÁRIA   \n",
              "1597  13/05/2023   19:32:48         2022                2  ELEIÇÃO ORDINÁRIA   \n",
              "1598  13/05/2023   19:32:48         2022                2  ELEIÇÃO ORDINÁRIA   \n",
              "1599  13/05/2023   19:32:48         2022                2  ELEIÇÃO ORDINÁRIA   \n",
              "\n",
              "      NR_TURNO  CD_ELEICAO                      DS_ELEICAO  DT_ELEICAO  \\\n",
              "1595         1         546  Eleições Gerais Estaduais 2022  02/10/2022   \n",
              "1596         1         546  Eleições Gerais Estaduais 2022  02/10/2022   \n",
              "1597         1         546  Eleições Gerais Estaduais 2022  02/10/2022   \n",
              "1598         1         546  Eleições Gerais Estaduais 2022  02/10/2022   \n",
              "1599         1         546  Eleições Gerais Estaduais 2022  02/10/2022   \n",
              "\n",
              "     TP_ABRANGENCIA  ...          NR_PROCESSO CD_SITUACAO_CANDIDATO_PLEITO  \\\n",
              "1595       ESTADUAL  ...  6007170420226030000                          2.0   \n",
              "1596       ESTADUAL  ...  6006711520226030000                          2.0   \n",
              "1597       ESTADUAL  ...  6007058720226030000                          2.0   \n",
              "1598       ESTADUAL  ...  6004251920226030000                          2.0   \n",
              "1599       ESTADUAL  ...  6006885120226030000                          NaN   \n",
              "\n",
              "     DS_SITUACAO_CANDIDATO_PLEITO  CD_SITUACAO_CANDIDATO_URNA  \\\n",
              "1595                     DEFERIDO                         2.0   \n",
              "1596                     DEFERIDO                         2.0   \n",
              "1597                     DEFERIDO                         2.0   \n",
              "1598                     DEFERIDO                         2.0   \n",
              "1599                       #NULO#                         NaN   \n",
              "\n",
              "     DS_SITUACAO_CANDIDATO_URNA  ST_CANDIDATO_INSERIDO_URNA  \\\n",
              "1595                   DEFERIDO                         SIM   \n",
              "1596                   DEFERIDO                         SIM   \n",
              "1597                   DEFERIDO                         SIM   \n",
              "1598                   DEFERIDO                         SIM   \n",
              "1599                     #NULO#                         NÃO   \n",
              "\n",
              "      NM_TIPO_DESTINACAO_VOTOS CD_SITUACAO_CANDIDATO_TOT  \\\n",
              "1595                    Válido                       2.0   \n",
              "1596                    Válido                       2.0   \n",
              "1597                    Válido                       2.0   \n",
              "1598                    Válido                       2.0   \n",
              "1599                    #NULO#                       NaN   \n",
              "\n",
              "     DS_SITUACAO_CANDIDATO_TOT ST_PREST_CONTAS  \n",
              "1595                  Deferido               S  \n",
              "1596                  Deferido               S  \n",
              "1597                  Deferido               S  \n",
              "1598                  Deferido               S  \n",
              "1599                    #NULO#               N  \n",
              "\n",
              "[5 rows x 71 columns]"
            ],
            "text/html": [
              "\n",
              "  <div id=\"df-03810438-d560-4866-9041-c1d1ca6036bf\">\n",
              "    <div class=\"colab-df-container\">\n",
              "      <div>\n",
              "<style scoped>\n",
              "    .dataframe tbody tr th:only-of-type {\n",
              "        vertical-align: middle;\n",
              "    }\n",
              "\n",
              "    .dataframe tbody tr th {\n",
              "        vertical-align: top;\n",
              "    }\n",
              "\n",
              "    .dataframe thead th {\n",
              "        text-align: right;\n",
              "    }\n",
              "</style>\n",
              "<table border=\"1\" class=\"dataframe\">\n",
              "  <thead>\n",
              "    <tr style=\"text-align: right;\">\n",
              "      <th></th>\n",
              "      <th>DT_GERACAO</th>\n",
              "      <th>HH_GERACAO</th>\n",
              "      <th>ANO_ELEICAO</th>\n",
              "      <th>CD_TIPO_ELEICAO</th>\n",
              "      <th>NM_TIPO_ELEICAO</th>\n",
              "      <th>NR_TURNO</th>\n",
              "      <th>CD_ELEICAO</th>\n",
              "      <th>DS_ELEICAO</th>\n",
              "      <th>DT_ELEICAO</th>\n",
              "      <th>TP_ABRANGENCIA</th>\n",
              "      <th>...</th>\n",
              "      <th>NR_PROCESSO</th>\n",
              "      <th>CD_SITUACAO_CANDIDATO_PLEITO</th>\n",
              "      <th>DS_SITUACAO_CANDIDATO_PLEITO</th>\n",
              "      <th>CD_SITUACAO_CANDIDATO_URNA</th>\n",
              "      <th>DS_SITUACAO_CANDIDATO_URNA</th>\n",
              "      <th>ST_CANDIDATO_INSERIDO_URNA</th>\n",
              "      <th>NM_TIPO_DESTINACAO_VOTOS</th>\n",
              "      <th>CD_SITUACAO_CANDIDATO_TOT</th>\n",
              "      <th>DS_SITUACAO_CANDIDATO_TOT</th>\n",
              "      <th>ST_PREST_CONTAS</th>\n",
              "    </tr>\n",
              "  </thead>\n",
              "  <tbody>\n",
              "    <tr>\n",
              "      <th>1595</th>\n",
              "      <td>13/05/2023</td>\n",
              "      <td>19:32:48</td>\n",
              "      <td>2022</td>\n",
              "      <td>2</td>\n",
              "      <td>ELEIÇÃO ORDINÁRIA</td>\n",
              "      <td>1</td>\n",
              "      <td>546</td>\n",
              "      <td>Eleições Gerais Estaduais 2022</td>\n",
              "      <td>02/10/2022</td>\n",
              "      <td>ESTADUAL</td>\n",
              "      <td>...</td>\n",
              "      <td>6007170420226030000</td>\n",
              "      <td>2.0</td>\n",
              "      <td>DEFERIDO</td>\n",
              "      <td>2.0</td>\n",
              "      <td>DEFERIDO</td>\n",
              "      <td>SIM</td>\n",
              "      <td>Válido</td>\n",
              "      <td>2.0</td>\n",
              "      <td>Deferido</td>\n",
              "      <td>S</td>\n",
              "    </tr>\n",
              "    <tr>\n",
              "      <th>1596</th>\n",
              "      <td>13/05/2023</td>\n",
              "      <td>19:32:48</td>\n",
              "      <td>2022</td>\n",
              "      <td>2</td>\n",
              "      <td>ELEIÇÃO ORDINÁRIA</td>\n",
              "      <td>1</td>\n",
              "      <td>546</td>\n",
              "      <td>Eleições Gerais Estaduais 2022</td>\n",
              "      <td>02/10/2022</td>\n",
              "      <td>ESTADUAL</td>\n",
              "      <td>...</td>\n",
              "      <td>6006711520226030000</td>\n",
              "      <td>2.0</td>\n",
              "      <td>DEFERIDO</td>\n",
              "      <td>2.0</td>\n",
              "      <td>DEFERIDO</td>\n",
              "      <td>SIM</td>\n",
              "      <td>Válido</td>\n",
              "      <td>2.0</td>\n",
              "      <td>Deferido</td>\n",
              "      <td>S</td>\n",
              "    </tr>\n",
              "    <tr>\n",
              "      <th>1597</th>\n",
              "      <td>13/05/2023</td>\n",
              "      <td>19:32:48</td>\n",
              "      <td>2022</td>\n",
              "      <td>2</td>\n",
              "      <td>ELEIÇÃO ORDINÁRIA</td>\n",
              "      <td>1</td>\n",
              "      <td>546</td>\n",
              "      <td>Eleições Gerais Estaduais 2022</td>\n",
              "      <td>02/10/2022</td>\n",
              "      <td>ESTADUAL</td>\n",
              "      <td>...</td>\n",
              "      <td>6007058720226030000</td>\n",
              "      <td>2.0</td>\n",
              "      <td>DEFERIDO</td>\n",
              "      <td>2.0</td>\n",
              "      <td>DEFERIDO</td>\n",
              "      <td>SIM</td>\n",
              "      <td>Válido</td>\n",
              "      <td>2.0</td>\n",
              "      <td>Deferido</td>\n",
              "      <td>S</td>\n",
              "    </tr>\n",
              "    <tr>\n",
              "      <th>1598</th>\n",
              "      <td>13/05/2023</td>\n",
              "      <td>19:32:48</td>\n",
              "      <td>2022</td>\n",
              "      <td>2</td>\n",
              "      <td>ELEIÇÃO ORDINÁRIA</td>\n",
              "      <td>1</td>\n",
              "      <td>546</td>\n",
              "      <td>Eleições Gerais Estaduais 2022</td>\n",
              "      <td>02/10/2022</td>\n",
              "      <td>ESTADUAL</td>\n",
              "      <td>...</td>\n",
              "      <td>6004251920226030000</td>\n",
              "      <td>2.0</td>\n",
              "      <td>DEFERIDO</td>\n",
              "      <td>2.0</td>\n",
              "      <td>DEFERIDO</td>\n",
              "      <td>SIM</td>\n",
              "      <td>Válido</td>\n",
              "      <td>2.0</td>\n",
              "      <td>Deferido</td>\n",
              "      <td>S</td>\n",
              "    </tr>\n",
              "    <tr>\n",
              "      <th>1599</th>\n",
              "      <td>13/05/2023</td>\n",
              "      <td>19:32:48</td>\n",
              "      <td>2022</td>\n",
              "      <td>2</td>\n",
              "      <td>ELEIÇÃO ORDINÁRIA</td>\n",
              "      <td>1</td>\n",
              "      <td>546</td>\n",
              "      <td>Eleições Gerais Estaduais 2022</td>\n",
              "      <td>02/10/2022</td>\n",
              "      <td>ESTADUAL</td>\n",
              "      <td>...</td>\n",
              "      <td>6006885120226030000</td>\n",
              "      <td>NaN</td>\n",
              "      <td>#NULO#</td>\n",
              "      <td>NaN</td>\n",
              "      <td>#NULO#</td>\n",
              "      <td>NÃO</td>\n",
              "      <td>#NULO#</td>\n",
              "      <td>NaN</td>\n",
              "      <td>#NULO#</td>\n",
              "      <td>N</td>\n",
              "    </tr>\n",
              "  </tbody>\n",
              "</table>\n",
              "<p>5 rows × 71 columns</p>\n",
              "</div>\n",
              "      <button class=\"colab-df-convert\" onclick=\"convertToInteractive('df-03810438-d560-4866-9041-c1d1ca6036bf')\"\n",
              "              title=\"Convert this dataframe to an interactive table.\"\n",
              "              style=\"display:none;\">\n",
              "        \n",
              "  <svg xmlns=\"http://www.w3.org/2000/svg\" height=\"24px\"viewBox=\"0 0 24 24\"\n",
              "       width=\"24px\">\n",
              "    <path d=\"M0 0h24v24H0V0z\" fill=\"none\"/>\n",
              "    <path d=\"M18.56 5.44l.94 2.06.94-2.06 2.06-.94-2.06-.94-.94-2.06-.94 2.06-2.06.94zm-11 1L8.5 8.5l.94-2.06 2.06-.94-2.06-.94L8.5 2.5l-.94 2.06-2.06.94zm10 10l.94 2.06.94-2.06 2.06-.94-2.06-.94-.94-2.06-.94 2.06-2.06.94z\"/><path d=\"M17.41 7.96l-1.37-1.37c-.4-.4-.92-.59-1.43-.59-.52 0-1.04.2-1.43.59L10.3 9.45l-7.72 7.72c-.78.78-.78 2.05 0 2.83L4 21.41c.39.39.9.59 1.41.59.51 0 1.02-.2 1.41-.59l7.78-7.78 2.81-2.81c.8-.78.8-2.07 0-2.86zM5.41 20L4 18.59l7.72-7.72 1.47 1.35L5.41 20z\"/>\n",
              "  </svg>\n",
              "      </button>\n",
              "      \n",
              "  <style>\n",
              "    .colab-df-container {\n",
              "      display:flex;\n",
              "      flex-wrap:wrap;\n",
              "      gap: 12px;\n",
              "    }\n",
              "\n",
              "    .colab-df-convert {\n",
              "      background-color: #E8F0FE;\n",
              "      border: none;\n",
              "      border-radius: 50%;\n",
              "      cursor: pointer;\n",
              "      display: none;\n",
              "      fill: #1967D2;\n",
              "      height: 32px;\n",
              "      padding: 0 0 0 0;\n",
              "      width: 32px;\n",
              "    }\n",
              "\n",
              "    .colab-df-convert:hover {\n",
              "      background-color: #E2EBFA;\n",
              "      box-shadow: 0px 1px 2px rgba(60, 64, 67, 0.3), 0px 1px 3px 1px rgba(60, 64, 67, 0.15);\n",
              "      fill: #174EA6;\n",
              "    }\n",
              "\n",
              "    [theme=dark] .colab-df-convert {\n",
              "      background-color: #3B4455;\n",
              "      fill: #D2E3FC;\n",
              "    }\n",
              "\n",
              "    [theme=dark] .colab-df-convert:hover {\n",
              "      background-color: #434B5C;\n",
              "      box-shadow: 0px 1px 3px 1px rgba(0, 0, 0, 0.15);\n",
              "      filter: drop-shadow(0px 1px 2px rgba(0, 0, 0, 0.3));\n",
              "      fill: #FFFFFF;\n",
              "    }\n",
              "  </style>\n",
              "\n",
              "      <script>\n",
              "        const buttonEl =\n",
              "          document.querySelector('#df-03810438-d560-4866-9041-c1d1ca6036bf button.colab-df-convert');\n",
              "        buttonEl.style.display =\n",
              "          google.colab.kernel.accessAllowed ? 'block' : 'none';\n",
              "\n",
              "        async function convertToInteractive(key) {\n",
              "          const element = document.querySelector('#df-03810438-d560-4866-9041-c1d1ca6036bf');\n",
              "          const dataTable =\n",
              "            await google.colab.kernel.invokeFunction('convertToInteractive',\n",
              "                                                     [key], {});\n",
              "          if (!dataTable) return;\n",
              "\n",
              "          const docLinkHtml = 'Like what you see? Visit the ' +\n",
              "            '<a target=\"_blank\" href=https://colab.research.google.com/notebooks/data_table.ipynb>data table notebook</a>'\n",
              "            + ' to learn more about interactive tables.';\n",
              "          element.innerHTML = '';\n",
              "          dataTable['output_type'] = 'display_data';\n",
              "          await google.colab.output.renderOutput(dataTable, element);\n",
              "          const docLink = document.createElement('div');\n",
              "          docLink.innerHTML = docLinkHtml;\n",
              "          element.appendChild(docLink);\n",
              "        }\n",
              "      </script>\n",
              "    </div>\n",
              "  </div>\n",
              "  "
            ]
          },
          "metadata": {},
          "execution_count": 35
        }
      ]
    },
    {
      "cell_type": "markdown",
      "id": "a8238419-ff3d-4f00-bc36-ad1f4da01920",
      "metadata": {
        "id": "a8238419-ff3d-4f00-bc36-ad1f4da01920"
      },
      "source": [
        "# Quantas candidaturas estão em situação de reeleição?"
      ]
    },
    {
      "cell_type": "code",
      "execution_count": 36,
      "id": "28055dde-c74b-403e-bcc3-deb82a828084",
      "metadata": {
        "id": "28055dde-c74b-403e-bcc3-deb82a828084",
        "outputId": "6b616db7-5eab-4eba-ed22-e874a1283b6d",
        "colab": {
          "base_uri": "https://localhost:8080/"
        }
      },
      "outputs": [
        {
          "output_type": "execute_result",
          "data": {
            "text/plain": [
              "array(['N', 'S', 'Não divulgável'], dtype=object)"
            ]
          },
          "metadata": {},
          "execution_count": 36
        }
      ],
      "source": [
        "candidaturas['ST_REELEICAO'].unique()"
      ]
    },
    {
      "cell_type": "code",
      "source": [
        "candidaturas['ST_REELEICAO'].value_counts()"
      ],
      "metadata": {
        "id": "3zi4Gy69tDpp",
        "outputId": "d0dea952-0c20-4107-a285-ac5163367f4b",
        "colab": {
          "base_uri": "https://localhost:8080/"
        }
      },
      "id": "3zi4Gy69tDpp",
      "execution_count": 37,
      "outputs": [
        {
          "output_type": "execute_result",
          "data": {
            "text/plain": [
              "N                 1518\n",
              "S                   81\n",
              "Não divulgável       1\n",
              "Name: ST_REELEICAO, dtype: int64"
            ]
          },
          "metadata": {},
          "execution_count": 37
        }
      ]
    },
    {
      "cell_type": "code",
      "source": [
        "(candidaturas['ST_REELEICAO']=='S').value_counts()"
      ],
      "metadata": {
        "id": "S7zy3MVHuODv",
        "outputId": "82564f2b-2e22-4bbe-bacc-2a9aecd0aa23",
        "colab": {
          "base_uri": "https://localhost:8080/"
        }
      },
      "id": "S7zy3MVHuODv",
      "execution_count": 38,
      "outputs": [
        {
          "output_type": "execute_result",
          "data": {
            "text/plain": [
              "False    1519\n",
              "True       81\n",
              "Name: ST_REELEICAO, dtype: int64"
            ]
          },
          "metadata": {},
          "execution_count": 38
        }
      ]
    },
    {
      "cell_type": "markdown",
      "id": "7cd5434f-9c0d-4fb6-a3ef-ce44498fea2e",
      "metadata": {
        "id": "7cd5434f-9c0d-4fb6-a3ef-ce44498fea2e"
      },
      "source": [
        "# Liste todas a ocupações declaradas pelas candidaturas"
      ]
    },
    {
      "cell_type": "code",
      "execution_count": 45,
      "id": "ef30c1ab-703f-4c65-8ba5-1cde6c183f88",
      "metadata": {
        "id": "ef30c1ab-703f-4c65-8ba5-1cde6c183f88"
      },
      "outputs": [],
      "source": [
        "candidaturas_dep_fed = candidaturas[\n",
        "    candidaturas['DS_CARGO'] == 'DEPUTADO FEDERAL'\n",
        "].copy()"
      ]
    },
    {
      "cell_type": "code",
      "source": [
        "candidaturas_dep_fed['DS_CARGO'].unique()"
      ],
      "metadata": {
        "id": "l4Qe2UI-xKhh",
        "outputId": "8e954088-9c37-474e-f546-4838dbfaa72e",
        "colab": {
          "base_uri": "https://localhost:8080/"
        }
      },
      "id": "l4Qe2UI-xKhh",
      "execution_count": 46,
      "outputs": [
        {
          "output_type": "execute_result",
          "data": {
            "text/plain": [
              "array(['DEPUTADO FEDERAL'], dtype=object)"
            ]
          },
          "metadata": {},
          "execution_count": 46
        }
      ]
    },
    {
      "cell_type": "markdown",
      "id": "f92cd033-7c9a-47ac-acad-d5db0035e6ff",
      "metadata": {
        "id": "f92cd033-7c9a-47ac-acad-d5db0035e6ff"
      },
      "source": [
        "# Quantos anos tem a pessoa candidata mais velha?"
      ]
    },
    {
      "cell_type": "code",
      "execution_count": 68,
      "id": "53b023a1-812e-4587-897d-703bf0a2a746",
      "metadata": {
        "id": "53b023a1-812e-4587-897d-703bf0a2a746"
      },
      "outputs": [],
      "source": [
        "idade_maxima = candidaturas_dep_fed['NR_IDADE_DATA_POSSE'].max()"
      ]
    },
    {
      "cell_type": "code",
      "source": [
        "idade_maxima"
      ],
      "metadata": {
        "id": "2q1WsCJN4xcu",
        "outputId": "39e47cc2-5b0b-4cc2-b56a-17ac1f91e39a",
        "colab": {
          "base_uri": "https://localhost:8080/"
        }
      },
      "id": "2q1WsCJN4xcu",
      "execution_count": 69,
      "outputs": [
        {
          "output_type": "execute_result",
          "data": {
            "text/plain": [
              "81.0"
            ]
          },
          "metadata": {},
          "execution_count": 69
        }
      ]
    },
    {
      "cell_type": "markdown",
      "id": "de5c48c3-c0b9-418c-bba2-bb20c5312bd8",
      "metadata": {
        "id": "de5c48c3-c0b9-418c-bba2-bb20c5312bd8"
      },
      "source": [
        "# Quantos anos tem a pessoa candidata mais jovem?"
      ]
    },
    {
      "cell_type": "code",
      "execution_count": 52,
      "id": "19c454cb-784f-48ab-8a82-61343b045bb8",
      "metadata": {
        "id": "19c454cb-784f-48ab-8a82-61343b045bb8"
      },
      "outputs": [],
      "source": [
        "idade_minima = candidaturas_dep_fed['NR_IDADE_DATA_POSSE'].min()"
      ]
    },
    {
      "cell_type": "code",
      "source": [
        "idade_minima"
      ],
      "metadata": {
        "id": "y6AfZpx92D7e",
        "outputId": "567b5f12-ead1-43ef-ea6d-34c97ee6715a",
        "colab": {
          "base_uri": "https://localhost:8080/"
        }
      },
      "id": "y6AfZpx92D7e",
      "execution_count": 53,
      "outputs": [
        {
          "output_type": "execute_result",
          "data": {
            "text/plain": [
              "22.0"
            ]
          },
          "metadata": {},
          "execution_count": 53
        }
      ]
    },
    {
      "cell_type": "markdown",
      "id": "f18ae4e7-ccca-4152-9971-65c543847936",
      "metadata": {
        "id": "f18ae4e7-ccca-4152-9971-65c543847936"
      },
      "source": [
        "# Qual é o nome da pessoa candidata mais velha?"
      ]
    },
    {
      "cell_type": "code",
      "execution_count": 70,
      "id": "c7059bae-72e9-4c4b-ae70-71c9085b2a1f",
      "metadata": {
        "id": "c7059bae-72e9-4c4b-ae70-71c9085b2a1f"
      },
      "outputs": [],
      "source": [
        "candidata_mais_velha = candidaturas_dep_fed[\n",
        "    candidaturas_dep_fed['NR_IDADE_DATA_POSSE'] == idade_maxima]['NM_CANDIDATO']"
      ]
    },
    {
      "cell_type": "code",
      "source": [
        "candidata_mais_velha"
      ],
      "metadata": {
        "id": "cnJLO0cg2fkc",
        "outputId": "cd7e185b-5a17-4548-84f4-e036336f0ad6",
        "colab": {
          "base_uri": "https://localhost:8080/"
        }
      },
      "id": "cnJLO0cg2fkc",
      "execution_count": 71,
      "outputs": [
        {
          "output_type": "execute_result",
          "data": {
            "text/plain": [
              "49    MARIA DE LOURDES PEREIRA DE FARIAS\n",
              "Name: NM_CANDIDATO, dtype: object"
            ]
          },
          "metadata": {},
          "execution_count": 71
        }
      ]
    },
    {
      "cell_type": "markdown",
      "id": "f6ddfb4c-7012-4f0b-befb-f44cde4c06a8",
      "metadata": {
        "id": "f6ddfb4c-7012-4f0b-befb-f44cde4c06a8"
      },
      "source": [
        "# Quantas candidaturas existem para \"Deputado federal\" seu estado?"
      ]
    },
    {
      "cell_type": "code",
      "execution_count": 74,
      "id": "ae815f6f-7403-4067-af0b-175b21f45172",
      "metadata": {
        "id": "ae815f6f-7403-4067-af0b-175b21f45172",
        "outputId": "f368567c-2831-4ea6-cb3a-cce9a60757a1",
        "colab": {
          "base_uri": "https://localhost:8080/"
        }
      },
      "outputs": [
        {
          "output_type": "execute_result",
          "data": {
            "text/plain": [
              "477"
            ]
          },
          "metadata": {},
          "execution_count": 74
        }
      ],
      "source": [
        "candidaturas_dep_fed.shape[0]"
      ]
    },
    {
      "cell_type": "markdown",
      "id": "6658e4f9-9271-4f0e-b6f8-575e33e5d8c9",
      "metadata": {
        "id": "6658e4f9-9271-4f0e-b6f8-575e33e5d8c9"
      },
      "source": [
        "# Qual é a média do valor máximo de despesas de campanha?"
      ]
    },
    {
      "cell_type": "code",
      "execution_count": 72,
      "id": "1b8283db-c218-44cd-908b-e4a2f041a435",
      "metadata": {
        "id": "1b8283db-c218-44cd-908b-e4a2f041a435",
        "outputId": "841bb942-c4ee-4d4b-9419-c4b0bc4db244",
        "colab": {
          "base_uri": "https://localhost:8080/",
          "height": 394
        }
      },
      "outputs": [
        {
          "output_type": "execute_result",
          "data": {
            "text/plain": [
              "       ANO_ELEICAO  CD_TIPO_ELEICAO  NR_TURNO  CD_ELEICAO  CD_CARGO  \\\n",
              "count        477.0            477.0     477.0       477.0     477.0   \n",
              "mean        2022.0              2.0       1.0       546.0       6.0   \n",
              "std            0.0              0.0       0.0         0.0       0.0   \n",
              "min         2022.0              2.0       1.0       546.0       6.0   \n",
              "25%         2022.0              2.0       1.0       546.0       6.0   \n",
              "50%         2022.0              2.0       1.0       546.0       6.0   \n",
              "75%         2022.0              2.0       1.0       546.0       6.0   \n",
              "max         2022.0              2.0       1.0       546.0       6.0   \n",
              "\n",
              "       SQ_CANDIDATO  NR_CANDIDATO  NR_CPF_CANDIDATO  CD_SITUACAO_CANDIDATURA  \\\n",
              "count  4.770000e+02    477.000000      4.770000e+02               477.000000   \n",
              "mean   1.044880e+11   3274.865828      4.216653e+10                10.924528   \n",
              "std    5.148630e+10   2144.614604      2.752325e+10                 2.922415   \n",
              "min    3.000160e+10   1000.000000      1.170628e+07                 3.000000   \n",
              "25%    3.000165e+10   1456.000000      1.808631e+10                12.000000   \n",
              "50%    1.400016e+11   2277.000000      4.264072e+10                12.000000   \n",
              "75%    1.400017e+11   4533.000000      6.372678e+10                12.000000   \n",
              "max    1.400017e+11   9091.000000      9.983241e+10                12.000000   \n",
              "\n",
              "       CD_DETALHE_SITUACAO_CAND  ...  CD_ESTADO_CIVIL  CD_COR_RACA  \\\n",
              "count                477.000000  ...        477.00000   477.000000   \n",
              "mean                   3.115304  ...          2.94130     2.232704   \n",
              "std                    3.299687  ...          2.30744     0.927146   \n",
              "min                    2.000000  ...          1.00000     1.000000   \n",
              "25%                    2.000000  ...          1.00000     1.000000   \n",
              "50%                    2.000000  ...          3.00000     3.000000   \n",
              "75%                    2.000000  ...          3.00000     3.000000   \n",
              "max                   14.000000  ...          9.00000     5.000000   \n",
              "\n",
              "       CD_OCUPACAO  VR_DESPESA_MAX_CAMPANHA  CD_SIT_TOT_TURNO  \\\n",
              "count   477.000000             4.770000e+02        438.000000   \n",
              "mean    381.939203             3.176573e+06          4.100457   \n",
              "std     306.050173             4.661502e-10          0.552879   \n",
              "min     101.000000             3.176573e+06          2.000000   \n",
              "25%     169.000000             3.176573e+06          4.000000   \n",
              "50%     257.000000             3.176573e+06          4.000000   \n",
              "75%     403.000000             3.176573e+06          4.000000   \n",
              "max     999.000000             3.176573e+06          5.000000   \n",
              "\n",
              "       NR_PROTOCOLO_CANDIDATURA   NR_PROCESSO  CD_SITUACAO_CANDIDATO_PLEITO  \\\n",
              "count                       0.0  4.770000e+02                    438.000000   \n",
              "mean                        NaN  6.006690e+18                      2.221461   \n",
              "std                         NaN  3.272279e+15                      1.444249   \n",
              "min                         NaN  6.001836e+18                      2.000000   \n",
              "25%                         NaN  6.004226e+18                      2.000000   \n",
              "50%                         NaN  6.006547e+18                      2.000000   \n",
              "75%                         NaN  6.008426e+18                      2.000000   \n",
              "max                         NaN  6.016203e+18                     17.000000   \n",
              "\n",
              "       CD_SITUACAO_CANDIDATO_URNA  CD_SITUACAO_CANDIDATO_TOT  \n",
              "count                  438.000000                 438.000000  \n",
              "mean                     2.331050                   2.221461  \n",
              "std                      1.885145                   1.444249  \n",
              "min                      2.000000                   2.000000  \n",
              "25%                      2.000000                   2.000000  \n",
              "50%                      2.000000                   2.000000  \n",
              "75%                      2.000000                   2.000000  \n",
              "max                     17.000000                  17.000000  \n",
              "\n",
              "[8 rows x 29 columns]"
            ],
            "text/html": [
              "\n",
              "  <div id=\"df-fbf873d8-236c-4a4f-bb7b-02241ba0ff5a\">\n",
              "    <div class=\"colab-df-container\">\n",
              "      <div>\n",
              "<style scoped>\n",
              "    .dataframe tbody tr th:only-of-type {\n",
              "        vertical-align: middle;\n",
              "    }\n",
              "\n",
              "    .dataframe tbody tr th {\n",
              "        vertical-align: top;\n",
              "    }\n",
              "\n",
              "    .dataframe thead th {\n",
              "        text-align: right;\n",
              "    }\n",
              "</style>\n",
              "<table border=\"1\" class=\"dataframe\">\n",
              "  <thead>\n",
              "    <tr style=\"text-align: right;\">\n",
              "      <th></th>\n",
              "      <th>ANO_ELEICAO</th>\n",
              "      <th>CD_TIPO_ELEICAO</th>\n",
              "      <th>NR_TURNO</th>\n",
              "      <th>CD_ELEICAO</th>\n",
              "      <th>CD_CARGO</th>\n",
              "      <th>SQ_CANDIDATO</th>\n",
              "      <th>NR_CANDIDATO</th>\n",
              "      <th>NR_CPF_CANDIDATO</th>\n",
              "      <th>CD_SITUACAO_CANDIDATURA</th>\n",
              "      <th>CD_DETALHE_SITUACAO_CAND</th>\n",
              "      <th>...</th>\n",
              "      <th>CD_ESTADO_CIVIL</th>\n",
              "      <th>CD_COR_RACA</th>\n",
              "      <th>CD_OCUPACAO</th>\n",
              "      <th>VR_DESPESA_MAX_CAMPANHA</th>\n",
              "      <th>CD_SIT_TOT_TURNO</th>\n",
              "      <th>NR_PROTOCOLO_CANDIDATURA</th>\n",
              "      <th>NR_PROCESSO</th>\n",
              "      <th>CD_SITUACAO_CANDIDATO_PLEITO</th>\n",
              "      <th>CD_SITUACAO_CANDIDATO_URNA</th>\n",
              "      <th>CD_SITUACAO_CANDIDATO_TOT</th>\n",
              "    </tr>\n",
              "  </thead>\n",
              "  <tbody>\n",
              "    <tr>\n",
              "      <th>count</th>\n",
              "      <td>477.0</td>\n",
              "      <td>477.0</td>\n",
              "      <td>477.0</td>\n",
              "      <td>477.0</td>\n",
              "      <td>477.0</td>\n",
              "      <td>4.770000e+02</td>\n",
              "      <td>477.000000</td>\n",
              "      <td>4.770000e+02</td>\n",
              "      <td>477.000000</td>\n",
              "      <td>477.000000</td>\n",
              "      <td>...</td>\n",
              "      <td>477.00000</td>\n",
              "      <td>477.000000</td>\n",
              "      <td>477.000000</td>\n",
              "      <td>4.770000e+02</td>\n",
              "      <td>438.000000</td>\n",
              "      <td>0.0</td>\n",
              "      <td>4.770000e+02</td>\n",
              "      <td>438.000000</td>\n",
              "      <td>438.000000</td>\n",
              "      <td>438.000000</td>\n",
              "    </tr>\n",
              "    <tr>\n",
              "      <th>mean</th>\n",
              "      <td>2022.0</td>\n",
              "      <td>2.0</td>\n",
              "      <td>1.0</td>\n",
              "      <td>546.0</td>\n",
              "      <td>6.0</td>\n",
              "      <td>1.044880e+11</td>\n",
              "      <td>3274.865828</td>\n",
              "      <td>4.216653e+10</td>\n",
              "      <td>10.924528</td>\n",
              "      <td>3.115304</td>\n",
              "      <td>...</td>\n",
              "      <td>2.94130</td>\n",
              "      <td>2.232704</td>\n",
              "      <td>381.939203</td>\n",
              "      <td>3.176573e+06</td>\n",
              "      <td>4.100457</td>\n",
              "      <td>NaN</td>\n",
              "      <td>6.006690e+18</td>\n",
              "      <td>2.221461</td>\n",
              "      <td>2.331050</td>\n",
              "      <td>2.221461</td>\n",
              "    </tr>\n",
              "    <tr>\n",
              "      <th>std</th>\n",
              "      <td>0.0</td>\n",
              "      <td>0.0</td>\n",
              "      <td>0.0</td>\n",
              "      <td>0.0</td>\n",
              "      <td>0.0</td>\n",
              "      <td>5.148630e+10</td>\n",
              "      <td>2144.614604</td>\n",
              "      <td>2.752325e+10</td>\n",
              "      <td>2.922415</td>\n",
              "      <td>3.299687</td>\n",
              "      <td>...</td>\n",
              "      <td>2.30744</td>\n",
              "      <td>0.927146</td>\n",
              "      <td>306.050173</td>\n",
              "      <td>4.661502e-10</td>\n",
              "      <td>0.552879</td>\n",
              "      <td>NaN</td>\n",
              "      <td>3.272279e+15</td>\n",
              "      <td>1.444249</td>\n",
              "      <td>1.885145</td>\n",
              "      <td>1.444249</td>\n",
              "    </tr>\n",
              "    <tr>\n",
              "      <th>min</th>\n",
              "      <td>2022.0</td>\n",
              "      <td>2.0</td>\n",
              "      <td>1.0</td>\n",
              "      <td>546.0</td>\n",
              "      <td>6.0</td>\n",
              "      <td>3.000160e+10</td>\n",
              "      <td>1000.000000</td>\n",
              "      <td>1.170628e+07</td>\n",
              "      <td>3.000000</td>\n",
              "      <td>2.000000</td>\n",
              "      <td>...</td>\n",
              "      <td>1.00000</td>\n",
              "      <td>1.000000</td>\n",
              "      <td>101.000000</td>\n",
              "      <td>3.176573e+06</td>\n",
              "      <td>2.000000</td>\n",
              "      <td>NaN</td>\n",
              "      <td>6.001836e+18</td>\n",
              "      <td>2.000000</td>\n",
              "      <td>2.000000</td>\n",
              "      <td>2.000000</td>\n",
              "    </tr>\n",
              "    <tr>\n",
              "      <th>25%</th>\n",
              "      <td>2022.0</td>\n",
              "      <td>2.0</td>\n",
              "      <td>1.0</td>\n",
              "      <td>546.0</td>\n",
              "      <td>6.0</td>\n",
              "      <td>3.000165e+10</td>\n",
              "      <td>1456.000000</td>\n",
              "      <td>1.808631e+10</td>\n",
              "      <td>12.000000</td>\n",
              "      <td>2.000000</td>\n",
              "      <td>...</td>\n",
              "      <td>1.00000</td>\n",
              "      <td>1.000000</td>\n",
              "      <td>169.000000</td>\n",
              "      <td>3.176573e+06</td>\n",
              "      <td>4.000000</td>\n",
              "      <td>NaN</td>\n",
              "      <td>6.004226e+18</td>\n",
              "      <td>2.000000</td>\n",
              "      <td>2.000000</td>\n",
              "      <td>2.000000</td>\n",
              "    </tr>\n",
              "    <tr>\n",
              "      <th>50%</th>\n",
              "      <td>2022.0</td>\n",
              "      <td>2.0</td>\n",
              "      <td>1.0</td>\n",
              "      <td>546.0</td>\n",
              "      <td>6.0</td>\n",
              "      <td>1.400016e+11</td>\n",
              "      <td>2277.000000</td>\n",
              "      <td>4.264072e+10</td>\n",
              "      <td>12.000000</td>\n",
              "      <td>2.000000</td>\n",
              "      <td>...</td>\n",
              "      <td>3.00000</td>\n",
              "      <td>3.000000</td>\n",
              "      <td>257.000000</td>\n",
              "      <td>3.176573e+06</td>\n",
              "      <td>4.000000</td>\n",
              "      <td>NaN</td>\n",
              "      <td>6.006547e+18</td>\n",
              "      <td>2.000000</td>\n",
              "      <td>2.000000</td>\n",
              "      <td>2.000000</td>\n",
              "    </tr>\n",
              "    <tr>\n",
              "      <th>75%</th>\n",
              "      <td>2022.0</td>\n",
              "      <td>2.0</td>\n",
              "      <td>1.0</td>\n",
              "      <td>546.0</td>\n",
              "      <td>6.0</td>\n",
              "      <td>1.400017e+11</td>\n",
              "      <td>4533.000000</td>\n",
              "      <td>6.372678e+10</td>\n",
              "      <td>12.000000</td>\n",
              "      <td>2.000000</td>\n",
              "      <td>...</td>\n",
              "      <td>3.00000</td>\n",
              "      <td>3.000000</td>\n",
              "      <td>403.000000</td>\n",
              "      <td>3.176573e+06</td>\n",
              "      <td>4.000000</td>\n",
              "      <td>NaN</td>\n",
              "      <td>6.008426e+18</td>\n",
              "      <td>2.000000</td>\n",
              "      <td>2.000000</td>\n",
              "      <td>2.000000</td>\n",
              "    </tr>\n",
              "    <tr>\n",
              "      <th>max</th>\n",
              "      <td>2022.0</td>\n",
              "      <td>2.0</td>\n",
              "      <td>1.0</td>\n",
              "      <td>546.0</td>\n",
              "      <td>6.0</td>\n",
              "      <td>1.400017e+11</td>\n",
              "      <td>9091.000000</td>\n",
              "      <td>9.983241e+10</td>\n",
              "      <td>12.000000</td>\n",
              "      <td>14.000000</td>\n",
              "      <td>...</td>\n",
              "      <td>9.00000</td>\n",
              "      <td>5.000000</td>\n",
              "      <td>999.000000</td>\n",
              "      <td>3.176573e+06</td>\n",
              "      <td>5.000000</td>\n",
              "      <td>NaN</td>\n",
              "      <td>6.016203e+18</td>\n",
              "      <td>17.000000</td>\n",
              "      <td>17.000000</td>\n",
              "      <td>17.000000</td>\n",
              "    </tr>\n",
              "  </tbody>\n",
              "</table>\n",
              "<p>8 rows × 29 columns</p>\n",
              "</div>\n",
              "      <button class=\"colab-df-convert\" onclick=\"convertToInteractive('df-fbf873d8-236c-4a4f-bb7b-02241ba0ff5a')\"\n",
              "              title=\"Convert this dataframe to an interactive table.\"\n",
              "              style=\"display:none;\">\n",
              "        \n",
              "  <svg xmlns=\"http://www.w3.org/2000/svg\" height=\"24px\"viewBox=\"0 0 24 24\"\n",
              "       width=\"24px\">\n",
              "    <path d=\"M0 0h24v24H0V0z\" fill=\"none\"/>\n",
              "    <path d=\"M18.56 5.44l.94 2.06.94-2.06 2.06-.94-2.06-.94-.94-2.06-.94 2.06-2.06.94zm-11 1L8.5 8.5l.94-2.06 2.06-.94-2.06-.94L8.5 2.5l-.94 2.06-2.06.94zm10 10l.94 2.06.94-2.06 2.06-.94-2.06-.94-.94-2.06-.94 2.06-2.06.94z\"/><path d=\"M17.41 7.96l-1.37-1.37c-.4-.4-.92-.59-1.43-.59-.52 0-1.04.2-1.43.59L10.3 9.45l-7.72 7.72c-.78.78-.78 2.05 0 2.83L4 21.41c.39.39.9.59 1.41.59.51 0 1.02-.2 1.41-.59l7.78-7.78 2.81-2.81c.8-.78.8-2.07 0-2.86zM5.41 20L4 18.59l7.72-7.72 1.47 1.35L5.41 20z\"/>\n",
              "  </svg>\n",
              "      </button>\n",
              "      \n",
              "  <style>\n",
              "    .colab-df-container {\n",
              "      display:flex;\n",
              "      flex-wrap:wrap;\n",
              "      gap: 12px;\n",
              "    }\n",
              "\n",
              "    .colab-df-convert {\n",
              "      background-color: #E8F0FE;\n",
              "      border: none;\n",
              "      border-radius: 50%;\n",
              "      cursor: pointer;\n",
              "      display: none;\n",
              "      fill: #1967D2;\n",
              "      height: 32px;\n",
              "      padding: 0 0 0 0;\n",
              "      width: 32px;\n",
              "    }\n",
              "\n",
              "    .colab-df-convert:hover {\n",
              "      background-color: #E2EBFA;\n",
              "      box-shadow: 0px 1px 2px rgba(60, 64, 67, 0.3), 0px 1px 3px 1px rgba(60, 64, 67, 0.15);\n",
              "      fill: #174EA6;\n",
              "    }\n",
              "\n",
              "    [theme=dark] .colab-df-convert {\n",
              "      background-color: #3B4455;\n",
              "      fill: #D2E3FC;\n",
              "    }\n",
              "\n",
              "    [theme=dark] .colab-df-convert:hover {\n",
              "      background-color: #434B5C;\n",
              "      box-shadow: 0px 1px 3px 1px rgba(0, 0, 0, 0.15);\n",
              "      filter: drop-shadow(0px 1px 2px rgba(0, 0, 0, 0.3));\n",
              "      fill: #FFFFFF;\n",
              "    }\n",
              "  </style>\n",
              "\n",
              "      <script>\n",
              "        const buttonEl =\n",
              "          document.querySelector('#df-fbf873d8-236c-4a4f-bb7b-02241ba0ff5a button.colab-df-convert');\n",
              "        buttonEl.style.display =\n",
              "          google.colab.kernel.accessAllowed ? 'block' : 'none';\n",
              "\n",
              "        async function convertToInteractive(key) {\n",
              "          const element = document.querySelector('#df-fbf873d8-236c-4a4f-bb7b-02241ba0ff5a');\n",
              "          const dataTable =\n",
              "            await google.colab.kernel.invokeFunction('convertToInteractive',\n",
              "                                                     [key], {});\n",
              "          if (!dataTable) return;\n",
              "\n",
              "          const docLinkHtml = 'Like what you see? Visit the ' +\n",
              "            '<a target=\"_blank\" href=https://colab.research.google.com/notebooks/data_table.ipynb>data table notebook</a>'\n",
              "            + ' to learn more about interactive tables.';\n",
              "          element.innerHTML = '';\n",
              "          dataTable['output_type'] = 'display_data';\n",
              "          await google.colab.output.renderOutput(dataTable, element);\n",
              "          const docLink = document.createElement('div');\n",
              "          docLink.innerHTML = docLinkHtml;\n",
              "          element.appendChild(docLink);\n",
              "        }\n",
              "      </script>\n",
              "    </div>\n",
              "  </div>\n",
              "  "
            ]
          },
          "metadata": {},
          "execution_count": 72
        }
      ],
      "source": [
        "candidaturas_dep_fed.describe()"
      ]
    },
    {
      "cell_type": "code",
      "source": [
        "media = candidaturas_dep_fed['VR_DESPESA_MAX_CAMPANHA'].mean()"
      ],
      "metadata": {
        "id": "mrzU3u_v5ue7"
      },
      "id": "mrzU3u_v5ue7",
      "execution_count": 75,
      "outputs": []
    },
    {
      "cell_type": "code",
      "source": [
        "round(media, 2)"
      ],
      "metadata": {
        "id": "o8XfxLQw6Q17",
        "outputId": "e066f17b-ec12-4a66-fcd7-8dade3caa580",
        "colab": {
          "base_uri": "https://localhost:8080/"
        }
      },
      "id": "o8XfxLQw6Q17",
      "execution_count": 76,
      "outputs": [
        {
          "output_type": "execute_result",
          "data": {
            "text/plain": [
              "3176572.53"
            ]
          },
          "metadata": {},
          "execution_count": 76
        }
      ]
    }
  ],
  "metadata": {
    "kernelspec": {
      "display_name": "Python 3 (ipykernel)",
      "language": "python",
      "name": "python3"
    },
    "language_info": {
      "codemirror_mode": {
        "name": "ipython",
        "version": 3
      },
      "file_extension": ".py",
      "mimetype": "text/x-python",
      "name": "python",
      "nbconvert_exporter": "python",
      "pygments_lexer": "ipython3",
      "version": "3.10.6"
    },
    "colab": {
      "provenance": []
    }
  },
  "nbformat": 4,
  "nbformat_minor": 5
}